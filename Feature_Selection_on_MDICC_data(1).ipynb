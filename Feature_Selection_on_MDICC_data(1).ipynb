{
 "cells": [
  {
   "cell_type": "markdown",
   "id": "0810932b",
   "metadata": {
    "id": "0810932b"
   },
   "source": [
    "# Imports"
   ]
  },
  {
   "cell_type": "code",
   "execution_count": 1,
   "id": "1a3e1735",
   "metadata": {
    "id": "1a3e1735"
   },
   "outputs": [],
   "source": [
    "from pandas import read_csv\n",
    "import matplotlib.pyplot as plt\n",
    "import numpy as np\n",
    "import pandas as pd\n",
    "from sklearn.feature_selection import RFECV\n",
    "from sklearn.model_selection import StratifiedKFold\n",
    "from sklearn.ensemble import RandomForestClassifier\n",
    "from sklearn.svm import SVC\n",
    "from sklearn.feature_selection import VarianceThreshold\n",
    "from sklearn.model_selection import train_test_split\n",
    "from sklearn.feature_selection import SelectFromModel\n",
    "from sklearn.metrics import adjusted_rand_score\n",
    "from sklearn.pipeline import make_pipeline\n",
    "from sklearn.feature_selection import SelectKBest\n",
    "from sklearn.feature_selection import GenericUnivariateSelect, chi2\n",
    "from sklearn.model_selection import cross_validate"
   ]
  },
  {
   "cell_type": "markdown",
   "id": "3ee0f27b",
   "metadata": {
    "id": "3ee0f27b"
   },
   "source": [
    "# KIRC\n",
    "--------------------------------------------------------------------------------------------------------------------------\n",
    "# Importing data"
   ]
  },
  {
   "cell_type": "code",
   "execution_count": 2,
   "id": "c2536228",
   "metadata": {
    "id": "c2536228"
   },
   "outputs": [],
   "source": [
    "gene = read_csv(\"M://scriptie/data_MDICC2/KIRC/data/gene1.csv\")\n",
    "methyl = read_csv(\"M://scriptie/data_MDICC2/KIRC/data/methyl.csv\")\n",
    "miRNA = read_csv(\"M://scriptie/data_MDICC2/KIRC/data/miRNA1.csv\")\n",
    "label = read_csv(\"M://scriptie/data_MDICC2/KIRC/label.csv\")\n",
    "#survival = read_csv(\"survival.csv\")"
   ]
  },
  {
   "cell_type": "markdown",
   "id": "098097b3",
   "metadata": {
    "id": "098097b3"
   },
   "source": [
    "# Data exploration"
   ]
  },
  {
   "cell_type": "code",
   "execution_count": null,
   "id": "eb715217",
   "metadata": {
    "colab": {
     "base_uri": "https://localhost:8080/",
     "height": 429
    },
    "id": "eb715217",
    "outputId": "0dfe0010-1828-45cc-e3aa-f26d3e4a4909"
   },
   "outputs": [],
   "source": [
    "print(\"The shape of gene is {}\".format(gene.shape))\n",
    "gene.describe()\n",
    "#gene.iloc[:,1].describe() #use this for a single column"
   ]
  },
  {
   "cell_type": "code",
   "execution_count": null,
   "id": "fd8c3ab0",
   "metadata": {
    "colab": {
     "base_uri": "https://localhost:8080/",
     "height": 429
    },
    "id": "fd8c3ab0",
    "outputId": "de31011a-5871-4a10-bb45-f1852779141c"
   },
   "outputs": [],
   "source": [
    "print(\"The shape of methyl is {}\".format(methyl.shape))\n",
    "methyl.describe()"
   ]
  },
  {
   "cell_type": "code",
   "execution_count": null,
   "id": "a8445500",
   "metadata": {
    "colab": {
     "base_uri": "https://localhost:8080/"
    },
    "id": "a8445500",
    "outputId": "eecb3af1-a3ae-43da-f3ea-f805789e4f1b"
   },
   "outputs": [],
   "source": [
    "print(\"The shape of miRNA is {}\".format(miRNA.shape))\n",
    "miRNA.describe()"
   ]
  },
  {
   "cell_type": "code",
   "execution_count": null,
   "id": "26295568",
   "metadata": {
    "id": "26295568",
    "outputId": "50f51b02-a467-45eb-df38-6f56465834cc"
   },
   "outputs": [],
   "source": [
    "print(\"The shape of survival is {}\".format(survival.shape))\n",
    "survival.head()"
   ]
  },
  {
   "cell_type": "code",
   "execution_count": null,
   "id": "fa0b7d4a",
   "metadata": {
    "id": "fa0b7d4a",
    "outputId": "c0afc1a1-b43a-4ddf-fade-f60aadf4267c"
   },
   "outputs": [],
   "source": [
    "print(\"The shape of label is {}\".format(label.shape))\n",
    "label.head()"
   ]
  },
  {
   "cell_type": "markdown",
   "id": "d9b5d15e",
   "metadata": {
    "id": "d9b5d15e"
   },
   "source": [
    "# miRNA"
   ]
  },
  {
   "cell_type": "code",
   "execution_count": null,
   "id": "F75wfuFzp1yL",
   "metadata": {
    "colab": {
     "base_uri": "https://localhost:8080/"
    },
    "id": "F75wfuFzp1yL",
    "outputId": "4b75660e-8623-4afc-b0ff-f4648572fc5c",
    "scrolled": true
   },
   "outputs": [],
   "source": [
    "total_count = 0\n",
    "for column_name in miRNA.columns:\n",
    "  column = miRNA[column_name]\n",
    "  total_count += (column == 0).sum()\n",
    "\n",
    "print('Amount of zeroes in miRNA is {} out of {}'.format(total_count, miRNA.shape[0]*miRNA.shape[1]))"
   ]
  },
  {
   "cell_type": "code",
   "execution_count": 3,
   "id": "e533646f",
   "metadata": {
    "id": "e533646f"
   },
   "outputs": [],
   "source": [
    "def load_data_miRNA():\n",
    "    X = miRNA.T\n",
    "    header = list(X.iloc[0,:])\n",
    "    X = X.drop(X.index[[0]])\n",
    "    X.columns = header\n",
    "    y = label.iloc[:,1]\n",
    "    return X, y"
   ]
  },
  {
   "cell_type": "markdown",
   "id": "RPcYHPfJ5GNd",
   "metadata": {
    "id": "RPcYHPfJ5GNd"
   },
   "source": [
    "### Random Forest"
   ]
  },
  {
   "cell_type": "code",
   "execution_count": null,
   "id": "G_hZ7H2r5J6P",
   "metadata": {
    "colab": {
     "base_uri": "https://localhost:8080/"
    },
    "id": "G_hZ7H2r5J6P",
    "outputId": "65740761-829e-4abd-de34-54a40485396c"
   },
   "outputs": [],
   "source": [
    "X, y = load_data_miRNA()\n",
    "X_train, X_test, y_train, y_test = train_test_split(X,y, test_size=0.3, random_state=0)\n",
    "\n",
    "rfc = RandomForestClassifier(n_estimators = 100,random_state=0,criterion='gini') \n",
    "selector = SelectFromModel(estimator=rfc, \n",
    "                      threshold=0.01)\n",
    "\n",
    "scoring = ['accuracy','roc_auc']\n",
    "cv_results = cross_validate(rfc, X, y, cv=10, scoring=scoring)\n",
    "print(cv_results.keys())\n",
    "print(cv_results['test_accuracy'])\n",
    "\n",
    "# Train the selector\n",
    "selector = selector.fit(X_train, y_train)\n",
    "print(selector.get_support())\n",
    "selected_feat = X_train.columns[(selector.get_support())]\n",
    "print(len(selected_feat))\n",
    "feat = X[selected_feat].T\n",
    "#feat.to_csv(\"KIRC_miRNA_rf_tt.csv\")"
   ]
  },
  {
   "cell_type": "markdown",
   "id": "bHi8vIopW8iY",
   "metadata": {
    "id": "bHi8vIopW8iY"
   },
   "source": [
    "### Variance Threshold"
   ]
  },
  {
   "cell_type": "code",
   "execution_count": null,
   "id": "ahO8s7tkW7oC",
   "metadata": {
    "id": "ahO8s7tkW7oC"
   },
   "outputs": [],
   "source": [
    "load_data_miRNA()\n",
    "selector = VarianceThreshold()\n",
    "selector = selector.fit(X)"
   ]
  },
  {
   "cell_type": "markdown",
   "id": "09OjsruBW16j",
   "metadata": {
    "id": "09OjsruBW16j"
   },
   "source": [
    "### RFECV"
   ]
  },
  {
   "cell_type": "code",
   "execution_count": null,
   "id": "9KyKDM2gWxlT",
   "metadata": {
    "id": "9KyKDM2gWxlT"
   },
   "outputs": [],
   "source": [
    "X, y = load_data_miRNA()\n",
    "clf = RandomForestClassifier(n_estimators=10, random_state=10)\n",
    "cv = StratifiedKFold(5)\n",
    "selector = RFECV(\n",
    "    estimator=clf,\n",
    "    step=1,\n",
    "    cv=cv,\n",
    "    scoring=\"accuracy\",\n",
    "    n_jobs=-1)\n",
    "selector = selector.fit(X,y)\n",
    "print(np.unique(selector.ranking_, return_counts=True))\n",
    "print(selector.score(X,y))"
   ]
  },
  {
   "cell_type": "markdown",
   "id": "92fef633",
   "metadata": {},
   "source": [
    "### K-best feature selection"
   ]
  },
  {
   "cell_type": "code",
   "execution_count": 7,
   "id": "e54e71a6",
   "metadata": {},
   "outputs": [
    {
     "name": "stdout",
     "output_type": "stream",
     "text": [
      "626 1879\n",
      "469 1879\n",
      "375 1879\n",
      "313 1879\n",
      "268 1879\n",
      "234 1879\n",
      "208 1879\n",
      "187 1879\n"
     ]
    }
   ],
   "source": [
    "X, y = load_data_miRNA()\n",
    "#X_train, X_test, y_train, y_test = train_test_split(X,y, test_size=0.3, stratify=y, random_state=10)\n",
    "for i in range(3,11):\n",
    "    selector = GenericUnivariateSelect(chi2, mode='k_best', param=X.shape[1]//i)\n",
    "\n",
    "    selector = selector.fit(X, y)\n",
    "    selected_feat = X.columns[(selector.get_support())]\n",
    "    print(len(selected_feat),miRNA.shape[0])\n",
    "    feat = X[selected_feat].T\n",
    "    file = \"KIRC_miRNA_kbest_{}.csv\".format(i)\n",
    "    feat.to_csv(file)"
   ]
  },
  {
   "cell_type": "markdown",
   "id": "byk1KcD8f0OE",
   "metadata": {
    "id": "byk1KcD8f0OE"
   },
   "source": [
    "### Transform to csv"
   ]
  },
  {
   "cell_type": "code",
   "execution_count": null,
   "id": "d5c33d7e",
   "metadata": {
    "colab": {
     "base_uri": "https://localhost:8080/"
    },
    "id": "d5c33d7e",
    "outputId": "e6b0f80b-81ff-47c8-b8f6-f96d891818cc"
   },
   "outputs": [],
   "source": [
    "new_X = selector.transform(X)\n",
    "print(new_X.shape)\n",
    "new_X = pd.DataFrame(new_X, columns=selector.get_feature_names_out(), index=miRNA.columns[1:]) \n",
    "new_X.to_csv('newmiRNA_variance.csv')"
   ]
  },
  {
   "cell_type": "markdown",
   "id": "0Yuj9oWv4_ya",
   "metadata": {
    "id": "0Yuj9oWv4_ya"
   },
   "source": [
    "# methyl"
   ]
  },
  {
   "cell_type": "code",
   "execution_count": null,
   "id": "b7qim1ILvOIh",
   "metadata": {
    "colab": {
     "base_uri": "https://localhost:8080/"
    },
    "id": "b7qim1ILvOIh",
    "outputId": "c476a540-dbc5-4c3a-df6e-35ae5caff87d"
   },
   "outputs": [],
   "source": [
    "total_count = 0\n",
    "for column_name in methyl.columns:\n",
    "  column = methyl[column_name]\n",
    "  total_count += (column == 0).sum()\n",
    "\n",
    "print('Amount of zeroes in methyl is {} out of {}'.format(total_count, methyl.shape[0]*methyl.shape[1]))"
   ]
  },
  {
   "cell_type": "code",
   "execution_count": 8,
   "id": "xsBWOSPt5NX0",
   "metadata": {
    "id": "xsBWOSPt5NX0"
   },
   "outputs": [],
   "source": [
    "def load_data_methyl():\n",
    "    X = methyl.T\n",
    "    header = list(X.iloc[0,:])\n",
    "    X = X.drop(X.index[[0]])\n",
    "    X.columns = header\n",
    "    y = label.iloc[:,1]\n",
    "    return X, y"
   ]
  },
  {
   "cell_type": "markdown",
   "id": "Ldap1JdKgoJC",
   "metadata": {
    "id": "Ldap1JdKgoJC"
   },
   "source": [
    "### Variance Threshold"
   ]
  },
  {
   "cell_type": "code",
   "execution_count": null,
   "id": "_EZd5s9qg44B",
   "metadata": {
    "id": "_EZd5s9qg44B"
   },
   "outputs": [],
   "source": [
    "X, y = load_data_methyl()\n",
    "selector = VarianceThreshold()\n",
    "selector = selector.fit(X)"
   ]
  },
  {
   "cell_type": "markdown",
   "id": "JM4YgULZe1v2",
   "metadata": {
    "id": "JM4YgULZe1v2"
   },
   "source": [
    "### RFECV"
   ]
  },
  {
   "cell_type": "code",
   "execution_count": null,
   "id": "J-vCuTdpe0VP",
   "metadata": {
    "id": "J-vCuTdpe0VP"
   },
   "outputs": [],
   "source": [
    "X, y = load_data_methyl()\n",
    "clf = RandomForestClassifier(n_estimators=10, random_state=10)\n",
    "cv = StratifiedKFold(5)\n",
    "selector = RFECV(\n",
    "    estimator=clf,\n",
    "    step=1,\n",
    "    cv=cv,\n",
    "    scoring=\"accuracy\",\n",
    "    n_jobs=-1)\n",
    "selector = selector.fit(X,y)\n",
    "\n",
    "print(np.unique(selector.ranking_, return_counts=True))\n",
    "print(\"Score: {}\".format(selector.score(X,y)))"
   ]
  },
  {
   "cell_type": "markdown",
   "id": "4d75b6bd",
   "metadata": {},
   "source": [
    "### K-best feature selection"
   ]
  },
  {
   "cell_type": "code",
   "execution_count": 9,
   "id": "5fa31489",
   "metadata": {},
   "outputs": [
    {
     "name": "stdout",
     "output_type": "stream",
     "text": [
      "(289, 22928)\n",
      "7642 22928\n",
      "5732 22928\n",
      "4585 22928\n",
      "3821 22928\n",
      "3275 22928\n",
      "2866 22928\n",
      "2547 22928\n",
      "2292 22928\n"
     ]
    }
   ],
   "source": [
    "X, y = load_data_methyl()\n",
    "print(X.shape)\n",
    "#X_train, X_test, y_train, y_test = train_test_split(X,y, test_size=0.3, stratify=y, random_state=10)\n",
    "for i in range(3,11):\n",
    "    selector = GenericUnivariateSelect(chi2, mode='k_best', param=X.shape[1]//i)\n",
    "    selector = selector.fit(X, y)\n",
    "    selected_feat = X.columns[(selector.get_support())]\n",
    "    print(len(selected_feat),methyl.shape[0])\n",
    "    feat = X[selected_feat].T\n",
    "    file = \"KIRC_methyl_kbest_{}.csv\".format(i)\n",
    "    feat.to_csv(file)"
   ]
  },
  {
   "cell_type": "markdown",
   "id": "2c93a949",
   "metadata": {},
   "source": [
    "### Random Forest"
   ]
  },
  {
   "cell_type": "code",
   "execution_count": null,
   "id": "851820f3",
   "metadata": {},
   "outputs": [],
   "source": [
    "load_data_methyl()\n",
    "X_train, X_test, y_train, y_test = train_test_split(X,y, test_size=0.3, random_state=0)\n",
    "\n",
    "rfc = RandomForestClassifier(n_estimators = 100,random_state=0,criterion='gini') \n",
    "selector = SelectFromModel(estimator=rfc, \n",
    "                      threshold=0.01)\n",
    "# Train the selector\n",
    "selector = selector.fit(X_train, y_train)\n",
    "print(selector.get_support())\n",
    "selected_feat = X_train.columns[(selector.get_support())]\n",
    "print(len(selected_feat))\n",
    "feat = X[selected_feat].T\n",
    "feat.to_csv(\"KIRC_methyl_rf_tt.csv\")"
   ]
  },
  {
   "cell_type": "markdown",
   "id": "X8W-mqpWfb1w",
   "metadata": {
    "id": "X8W-mqpWfb1w"
   },
   "source": [
    "### Transform to csv"
   ]
  },
  {
   "cell_type": "code",
   "execution_count": null,
   "id": "JMyiEYa_HXD6",
   "metadata": {
    "colab": {
     "base_uri": "https://localhost:8080/"
    },
    "id": "JMyiEYa_HXD6",
    "outputId": "4a8aca98-0109-4033-bf2e-4838124813ca"
   },
   "outputs": [],
   "source": [
    "new_X = selector.transform(X)\n",
    "print(new_X.shape)\n",
    "new_X = pd.DataFrame(new_X, columns=selector.get_feature_names_out(), index=miRNA.columns[1:]) \n",
    "new_X.to_csv('newmethyl_variance.csv')"
   ]
  },
  {
   "cell_type": "markdown",
   "id": "HR1B0oEtI1Gp",
   "metadata": {
    "id": "HR1B0oEtI1Gp"
   },
   "source": [
    "# gene"
   ]
  },
  {
   "cell_type": "code",
   "execution_count": null,
   "id": "fdx_CIzBvgJN",
   "metadata": {
    "colab": {
     "base_uri": "https://localhost:8080/"
    },
    "id": "fdx_CIzBvgJN",
    "outputId": "b4b0ab4d-525b-4d43-e6e1-4164e41aba64"
   },
   "outputs": [],
   "source": [
    "total_count = 0\n",
    "for column_name in gene.columns:\n",
    "  column = gene[column_name]\n",
    "  total_count += (column == 0).sum()\n",
    "\n",
    "print('Amount of zeroes in gene is {} out of {}'.format(total_count, gene.shape[0]*gene.shape[1]))"
   ]
  },
  {
   "cell_type": "code",
   "execution_count": 10,
   "id": "Wg8qqu_5I54S",
   "metadata": {
    "id": "Wg8qqu_5I54S"
   },
   "outputs": [],
   "source": [
    "def load_data_gene():\n",
    "    X = gene.T\n",
    "    header = list(X.iloc[0,:])\n",
    "    X = X.drop(X.index[[0]])\n",
    "    X.columns = header\n",
    "    y = label.iloc[:,1]\n",
    "    return X, y"
   ]
  },
  {
   "cell_type": "markdown",
   "id": "Vzy9MRWciNhw",
   "metadata": {
    "id": "Vzy9MRWciNhw"
   },
   "source": [
    "### Variance Threshold"
   ]
  },
  {
   "cell_type": "code",
   "execution_count": null,
   "id": "XpDtH64HiNBy",
   "metadata": {
    "id": "XpDtH64HiNBy"
   },
   "outputs": [],
   "source": [
    "X, y = load_data_gene()\n",
    "selector = VarianceThreshold()\n",
    "selector = selector.fit(X)"
   ]
  },
  {
   "cell_type": "markdown",
   "id": "qLTl7kwXiK36",
   "metadata": {
    "id": "qLTl7kwXiK36"
   },
   "source": [
    "### RFECV"
   ]
  },
  {
   "cell_type": "code",
   "execution_count": null,
   "id": "b1MP1ongw9WC",
   "metadata": {
    "id": "b1MP1ongw9WC"
   },
   "outputs": [],
   "source": [
    "X, y = load_data_gene()\n",
    "clf = RandomForestClassifier(n_estimators=10, random_state=10)\n",
    "cv = StratifiedKFold(5)\n",
    "selector_g = RFECV(\n",
    "    estimator=clf,\n",
    "    step=1,\n",
    "    cv=cv,\n",
    "    scoring=\"accuracy\",\n",
    "    n_jobs=-1)\n",
    "selector_g = selector_g.fit(X,y)\n",
    "\n",
    "print(selector_g.score(X,y))\n",
    "print(np.unique(selector_g.ranking_, return_counts=True))"
   ]
  },
  {
   "cell_type": "markdown",
   "id": "b3bfeca7",
   "metadata": {},
   "source": [
    "### K-best feature selection"
   ]
  },
  {
   "cell_type": "code",
   "execution_count": 12,
   "id": "662e47eb",
   "metadata": {},
   "outputs": [
    {
     "name": "stdout",
     "output_type": "stream",
     "text": [
      "(289, 58316)\n",
      "19438 58316\n",
      "14579 58316\n",
      "11663 58316\n",
      "9719 58316\n",
      "8330 58316\n",
      "7289 58316\n",
      "6479 58316\n",
      "5831 58316\n"
     ]
    }
   ],
   "source": [
    "X, y = load_data_gene()\n",
    "print(X.shape)\n",
    "#X_train, X_test, y_train, y_test = train_test_split(X,y, test_size=0.3, stratify=y, random_state=10)\n",
    "for i in range(3,11):\n",
    "    selector = GenericUnivariateSelect(chi2, mode='k_best', param=X.shape[1]//i)\n",
    "    selector = selector.fit(X, y)\n",
    "    selected_feat = X.columns[(selector.get_support())]\n",
    "    print(len(selected_feat),gene.shape[0])\n",
    "    feat = X[selected_feat].T\n",
    "    file = \"KIRC_gene_kbest_{}.csv\".format(i)\n",
    "    feat.to_csv(file)"
   ]
  },
  {
   "cell_type": "markdown",
   "id": "3af709db",
   "metadata": {},
   "source": [
    "### Random Forest"
   ]
  },
  {
   "cell_type": "code",
   "execution_count": null,
   "id": "3c647751",
   "metadata": {},
   "outputs": [],
   "source": [
    "X, y = load_data_gene()\n",
    "X_train, X_test, y_train, y_test = train_test_split(X,y, test_size=0.3, random_state=0)\n",
    "\n",
    "rfc = RandomForestClassifier(n_estimators = 100,random_state=0,criterion='gini') \n",
    "selector = SelectFromModel(estimator=rfc, \n",
    "                      threshold=0.01)\n",
    "# Train the selector\n",
    "selector = selector.fit(X_train, y_train)\n",
    "print(selector.get_support())\n",
    "selected_feat = X_train.columns[(selector.get_support())]\n",
    "print(len(selected_feat))\n",
    "#print(adjusted_rand_score(selector.predict(X_test)), y_test)\n",
    "#feat = X[selected_feat].T\n",
    "#feat.to_csv(\"KIRC_gene_rf_tt.csv\")"
   ]
  },
  {
   "cell_type": "markdown",
   "id": "rCSOEf59iYD7",
   "metadata": {
    "id": "rCSOEf59iYD7"
   },
   "source": [
    "### Transform to csv"
   ]
  },
  {
   "cell_type": "code",
   "execution_count": null,
   "id": "i2npbW8fw-Hm",
   "metadata": {
    "colab": {
     "base_uri": "https://localhost:8080/"
    },
    "id": "i2npbW8fw-Hm",
    "outputId": "71245325-f1cd-4eed-95b3-224cf45a3f07",
    "scrolled": true
   },
   "outputs": [],
   "source": [
    "new_X = selector.transform(X)\n",
    "print(new_X.shape)\n",
    "new_X = pd.DataFrame(new_X.T, columns=gene.columns[1:], index=selector.get_feature_names_out()) \n",
    "new_X.to_csv('newgene_variance.csv')"
   ]
  },
  {
   "cell_type": "markdown",
   "id": "fe149ee8",
   "metadata": {},
   "source": [
    "# ################################################################\n"
   ]
  },
  {
   "cell_type": "markdown",
   "id": "2a40ebf4",
   "metadata": {
    "id": "3ee0f27b"
   },
   "source": [
    "# LUAD\n",
    "--------------------------------------------------------------------------------------------------------------------------\n",
    "# Importing data"
   ]
  },
  {
   "cell_type": "code",
   "execution_count": 2,
   "id": "69f6bd61",
   "metadata": {
    "id": "c2536228"
   },
   "outputs": [],
   "source": [
    "gene = read_csv(\"M://scriptie/data_MDICC2/LUAD/data/gene.csv\")\n",
    "methyl = read_csv(\"M://scriptie/data_MDICC2/LUAD/data/methyl.csv\")\n",
    "miRNA = read_csv(\"M://scriptie/data_MDICC2/LUAD/data/miRNA.csv\")\n",
    "label = read_csv(\"M://scriptie/data_MDICC2/LUAD/label.csv\")\n",
    "#survival = read_csv(\"survival.csv\")"
   ]
  },
  {
   "cell_type": "markdown",
   "id": "f85c9fce",
   "metadata": {
    "id": "098097b3"
   },
   "source": [
    "# Data exploration"
   ]
  },
  {
   "cell_type": "code",
   "execution_count": null,
   "id": "272434a3",
   "metadata": {
    "colab": {
     "base_uri": "https://localhost:8080/",
     "height": 429
    },
    "id": "eb715217",
    "outputId": "0dfe0010-1828-45cc-e3aa-f26d3e4a4909"
   },
   "outputs": [],
   "source": [
    "print(\"The shape of gene is {}\".format(gene.shape))\n",
    "gene.describe()\n",
    "#gene.iloc[:,1].describe() #use this for a single column"
   ]
  },
  {
   "cell_type": "code",
   "execution_count": null,
   "id": "e6d1f198",
   "metadata": {
    "colab": {
     "base_uri": "https://localhost:8080/",
     "height": 429
    },
    "id": "fd8c3ab0",
    "outputId": "de31011a-5871-4a10-bb45-f1852779141c"
   },
   "outputs": [],
   "source": [
    "print(\"The shape of methyl is {}\".format(methyl.shape))\n",
    "methyl.describe()"
   ]
  },
  {
   "cell_type": "code",
   "execution_count": null,
   "id": "78ff89a0",
   "metadata": {
    "colab": {
     "base_uri": "https://localhost:8080/"
    },
    "id": "a8445500",
    "outputId": "eecb3af1-a3ae-43da-f3ea-f805789e4f1b"
   },
   "outputs": [],
   "source": [
    "print(\"The shape of miRNA is {}\".format(miRNA.shape))\n",
    "miRNA.describe()"
   ]
  },
  {
   "cell_type": "code",
   "execution_count": null,
   "id": "7b70058f",
   "metadata": {
    "id": "26295568",
    "outputId": "50f51b02-a467-45eb-df38-6f56465834cc"
   },
   "outputs": [],
   "source": [
    "print(\"The shape of survival is {}\".format(survival.shape))\n",
    "survival.head()"
   ]
  },
  {
   "cell_type": "code",
   "execution_count": null,
   "id": "9db661af",
   "metadata": {
    "id": "fa0b7d4a",
    "outputId": "c0afc1a1-b43a-4ddf-fade-f60aadf4267c"
   },
   "outputs": [],
   "source": [
    "print(\"The shape of label is {}\".format(label.shape))\n",
    "label.head()"
   ]
  },
  {
   "cell_type": "markdown",
   "id": "4b580241",
   "metadata": {
    "id": "d9b5d15e"
   },
   "source": [
    "# miRNA"
   ]
  },
  {
   "cell_type": "code",
   "execution_count": 3,
   "id": "a89dc32e",
   "metadata": {
    "colab": {
     "base_uri": "https://localhost:8080/"
    },
    "id": "F75wfuFzp1yL",
    "outputId": "4b75660e-8623-4afc-b0ff-f4648572fc5c",
    "scrolled": true
   },
   "outputs": [
    {
     "name": "stdout",
     "output_type": "stream",
     "text": [
      "Amount of zeroes in miRNA is 561698 out of 876546\n"
     ]
    }
   ],
   "source": [
    "total_count = 0\n",
    "for column_name in miRNA.columns:\n",
    "  column = miRNA[column_name]\n",
    "  total_count += (column == 0).sum()\n",
    "\n",
    "print('Amount of zeroes in miRNA is {} out of {}'.format(total_count, miRNA.shape[0]*miRNA.shape[1]))"
   ]
  },
  {
   "cell_type": "code",
   "execution_count": 4,
   "id": "47a6baa6",
   "metadata": {
    "id": "e533646f"
   },
   "outputs": [],
   "source": [
    "def load_data_miRNA():\n",
    "    X = miRNA.T\n",
    "    header = list(X.iloc[0,:])\n",
    "    X = X.drop(X.index[[0]])\n",
    "    X.columns = header\n",
    "    y = label.iloc[:,1]\n",
    "    return X, y"
   ]
  },
  {
   "cell_type": "markdown",
   "id": "484a828c",
   "metadata": {
    "id": "RPcYHPfJ5GNd"
   },
   "source": [
    "### Random Forest"
   ]
  },
  {
   "cell_type": "code",
   "execution_count": null,
   "id": "4a339e9d",
   "metadata": {
    "colab": {
     "base_uri": "https://localhost:8080/"
    },
    "id": "G_hZ7H2r5J6P",
    "outputId": "65740761-829e-4abd-de34-54a40485396c"
   },
   "outputs": [],
   "source": [
    "X, y = load_data_miRNA()\n",
    "X_train, X_test, y_train, y_test = train_test_split(X,y, test_size=0.3, random_state=0)\n",
    "\n",
    "rfc = RandomForestClassifier(n_estimators = 100,random_state=0,criterion='gini') \n",
    "selector = SelectFromModel(estimator=rfc, \n",
    "                      threshold=0.01)\n",
    "# Train the selector\n",
    "selector = selector.fit(X_train, y_train)\n",
    "print(selector.get_support())\n",
    "selected_feat = X_train.columns[(selector.get_support())]\n",
    "print(len(selected_feat))\n",
    "feat = X[selected_feat].T\n",
    "feat.to_csv(\"LUAD_miRNA_rf_tt.csv\")"
   ]
  },
  {
   "cell_type": "markdown",
   "id": "ebc3061f",
   "metadata": {
    "id": "bHi8vIopW8iY"
   },
   "source": [
    "### Variance Threshold"
   ]
  },
  {
   "cell_type": "code",
   "execution_count": null,
   "id": "99d6b1e6",
   "metadata": {
    "id": "ahO8s7tkW7oC"
   },
   "outputs": [],
   "source": [
    "X, y = load_data_miRNA()\n",
    "selector = VarianceThreshold()\n",
    "selector = selector.fit(X)"
   ]
  },
  {
   "cell_type": "markdown",
   "id": "4cf537ae",
   "metadata": {
    "id": "09OjsruBW16j"
   },
   "source": [
    "### RFECV"
   ]
  },
  {
   "cell_type": "code",
   "execution_count": null,
   "id": "58ea1fc0",
   "metadata": {
    "id": "9KyKDM2gWxlT"
   },
   "outputs": [],
   "source": [
    "clf = RandomForestClassifier(n_estimators=10, random_state=10)\n",
    "cv = StratifiedKFold(5)\n",
    "selector = RFECV(\n",
    "    estimator=clf,\n",
    "    step=1,\n",
    "    cv=cv,\n",
    "    scoring=\"accuracy\",\n",
    "    n_jobs=-1)\n",
    "selector = selector.fit(X,y)\n",
    "print(np.unique(selector.ranking_, return_counts=True))\n",
    "print(selector.score(X,y))"
   ]
  },
  {
   "cell_type": "markdown",
   "id": "d5cfe535",
   "metadata": {},
   "source": [
    "### K-best feature selection"
   ]
  },
  {
   "cell_type": "code",
   "execution_count": 6,
   "id": "cfaa51fc",
   "metadata": {},
   "outputs": [
    {
     "name": "stdout",
     "output_type": "stream",
     "text": [
      "171 1881\n",
      "156 1881\n",
      "144 1881\n",
      "134 1881\n",
      "125 1881\n"
     ]
    }
   ],
   "source": [
    "X, y = load_data_miRNA()\n",
    "#X_train, X_test, y_train, y_test = train_test_split(X,y, test_size=0.3, random_state=10)\n",
    "for i in range(11,16):\n",
    "    selector = GenericUnivariateSelect(chi2, mode='k_best', param=X.shape[1]//i)\n",
    "    selector = selector.fit(X, y)\n",
    "    selected_feat = X.columns[(selector.get_support())]\n",
    "    print(len(selected_feat),miRNA.shape[0])\n",
    "    feat = X[selected_feat].T\n",
    "    file = \"LUAD_miRNA_kbest_{}.csv\".format(i)\n",
    "    feat.to_csv(file)"
   ]
  },
  {
   "cell_type": "code",
   "execution_count": 35,
   "id": "ff25db3c",
   "metadata": {},
   "outputs": [
    {
     "name": "stdout",
     "output_type": "stream",
     "text": [
      "1881\n",
      "1881\n"
     ]
    },
    {
     "data": {
      "image/png": "[encoded data removed]",
      "text/plain": [
       "<Figure size 640x480 with 1 Axes>"
      ]
     },
     "metadata": {},
     "output_type": "display_data"
    }
   ],
   "source": [
    "X, y = load_data_miRNA()\n",
    "selector = GenericUnivariateSelect(chi2, mode='k_best', param=X.shape[1]//3)\n",
    "selector = selector.fit(X, y)\n",
    "print(len(X.columns[:]))\n",
    "print(len(selector.pvalues_))\n",
    "plt.figure()\n",
    "plt.bar(X.columns[:], selector.pvalues_)\n",
    "plt.show()"
   ]
  },
  {
   "cell_type": "code",
   "execution_count": 63,
   "id": "ec96a061",
   "metadata": {},
   "outputs": [
    {
     "name": "stdout",
     "output_type": "stream",
     "text": [
      "Index(['hsa-let-7a-1', 'hsa-let-7a-2', 'hsa-let-7a-3', 'hsa-let-7b',\n",
      "       'hsa-let-7c', 'hsa-let-7d', 'hsa-mir-1-1', 'hsa-mir-1-2',\n",
      "       'hsa-mir-105-1', 'hsa-mir-105-2',\n",
      "       ...\n",
      "       'hsa-mir-892a', 'hsa-mir-9-1', 'hsa-mir-9-2', 'hsa-mir-9-3',\n",
      "       'hsa-mir-93', 'hsa-mir-935', 'hsa-mir-937', 'hsa-mir-944', 'hsa-mir-96',\n",
      "       'hsa-mir-98'],\n",
      "      dtype='object', length=627)\n",
      "1881\n",
      "627\n"
     ]
    },
    {
     "data": {
      "image/png": "[encoded data removed]",
      "text/plain": [
       "<Figure size 640x480 with 1 Axes>"
      ]
     },
     "metadata": {},
     "output_type": "display_data"
    }
   ],
   "source": [
    "selected_feat = X.columns[(selector.get_support())]\n",
    "print(selected_feat)\n",
    "cols_index = [X.columns.get_loc(col) for col in selected_feat]\n",
    "print(len(selector.pvalues_))\n",
    "print(len(selector.pvalues_[cols_index]))\n",
    "plt.plot()\n",
    "plt.bar(selected_feat,selector.pvalues_[cols_index])\n",
    "plt.xlabel(\"Selected features from miRNA in LUAD\")\n",
    "plt.ylabel(\"p-value\")\n",
    "plt.show()\n",
    "#significant = list(filter(lambda num: num <= 0.5, selector.pvalues_))\n",
    "#print(len(significant))"
   ]
  },
  {
   "cell_type": "markdown",
   "id": "7d68b7a9",
   "metadata": {
    "id": "byk1KcD8f0OE"
   },
   "source": [
    "### Transform to csv"
   ]
  },
  {
   "cell_type": "code",
   "execution_count": null,
   "id": "c2b200d6",
   "metadata": {
    "colab": {
     "base_uri": "https://localhost:8080/"
    },
    "id": "d5c33d7e",
    "outputId": "e6b0f80b-81ff-47c8-b8f6-f96d891818cc"
   },
   "outputs": [],
   "source": [
    "new_X = selector.transform(X)\n",
    "print(new_X.shape)\n",
    "new_X = pd.DataFrame(new_X.T, columns=miRNA.columns[1:], index=selector.get_feature_names_out()) \n",
    "new_X.to_csv('M://scriptie/data_MDICC2/LUAD/rf/miRNA_rf.csv')"
   ]
  },
  {
   "cell_type": "markdown",
   "id": "cb95c102",
   "metadata": {
    "id": "0Yuj9oWv4_ya"
   },
   "source": [
    "# methyl"
   ]
  },
  {
   "cell_type": "code",
   "execution_count": null,
   "id": "658ad7e4",
   "metadata": {
    "colab": {
     "base_uri": "https://localhost:8080/"
    },
    "id": "b7qim1ILvOIh",
    "outputId": "c476a540-dbc5-4c3a-df6e-35ae5caff87d"
   },
   "outputs": [],
   "source": [
    "total_count = 0\n",
    "for column_name in methyl.columns:\n",
    "  column = methyl[column_name]\n",
    "  total_count += (column == 0).sum()\n",
    "\n",
    "print('Amount of zeroes in methyl is {} out of {}'.format(total_count, methyl.shape[0]*methyl.shape[1]))"
   ]
  },
  {
   "cell_type": "code",
   "execution_count": 7,
   "id": "71add443",
   "metadata": {
    "id": "xsBWOSPt5NX0"
   },
   "outputs": [],
   "source": [
    "def load_data_methyl():\n",
    "    X = methyl.T\n",
    "    header = list(X.iloc[0,:])\n",
    "    X = X.drop(X.index[[0]])\n",
    "    X.columns = header\n",
    "    y = label.iloc[:,1]\n",
    "    return X, y"
   ]
  },
  {
   "cell_type": "markdown",
   "id": "6fd52861",
   "metadata": {},
   "source": [
    "### Random Forest"
   ]
  },
  {
   "cell_type": "code",
   "execution_count": null,
   "id": "d6237da8",
   "metadata": {},
   "outputs": [],
   "source": [
    "X, y = load_data_methyl()\n",
    "X_train, X_test, y_train, y_test = train_test_split(X,y, test_size=0.3, random_state=0)\n",
    "\n",
    "rfc = RandomForestClassifier(n_estimators = 100,random_state=0,criterion='gini') \n",
    "selector = SelectFromModel(estimator=rfc, \n",
    "                      threshold=0.01)\n",
    "# Train the selector\n",
    "selector = selector.fit(X_train, y_train)\n",
    "print(selector.get_support())\n",
    "selected_feat = X_train.columns[(selector.get_support())]\n",
    "print(len(selected_feat))\n",
    "feat = X[selected_feat].T\n",
    "feat.to_csv(\"LUAD_methyl_rf_tt.csv\")"
   ]
  },
  {
   "cell_type": "markdown",
   "id": "80a77341",
   "metadata": {
    "id": "Ldap1JdKgoJC"
   },
   "source": [
    "### Variance Threshold"
   ]
  },
  {
   "cell_type": "code",
   "execution_count": null,
   "id": "012b832a",
   "metadata": {
    "id": "_EZd5s9qg44B"
   },
   "outputs": [],
   "source": [
    "X, y = load_data_methyl()\n",
    "selector = VarianceThreshold()\n",
    "selector = selector.fit(X)"
   ]
  },
  {
   "cell_type": "markdown",
   "id": "f42729f9",
   "metadata": {
    "id": "JM4YgULZe1v2"
   },
   "source": [
    "### RFECV"
   ]
  },
  {
   "cell_type": "code",
   "execution_count": null,
   "id": "1c757b15",
   "metadata": {
    "id": "J-vCuTdpe0VP"
   },
   "outputs": [],
   "source": [
    "X, y = load_data_methyl()\n",
    "clf = RandomForestClassifier(n_estimators=10, random_state=10)\n",
    "cv = StratifiedKFold(5)\n",
    "selector = RFECV(\n",
    "    estimator=clf,\n",
    "    step=1,\n",
    "    cv=cv,\n",
    "    scoring=\"accuracy\",\n",
    "    n_jobs=-1)\n",
    "selector = selector.fit(X,y)\n",
    "\n",
    "print(np.unique(selector.ranking_, return_counts=True))\n",
    "print(\"Score: {}\".format(selector.score(X,y)))"
   ]
  },
  {
   "cell_type": "markdown",
   "id": "e1a90c27",
   "metadata": {},
   "source": [
    "### K-best feature selection"
   ]
  },
  {
   "cell_type": "code",
   "execution_count": 8,
   "id": "ac114d54",
   "metadata": {},
   "outputs": [
    {
     "name": "stdout",
     "output_type": "stream",
     "text": [
      "2011 22123\n",
      "1843 22123\n",
      "1701 22123\n",
      "1580 22123\n",
      "1474 22123\n"
     ]
    }
   ],
   "source": [
    "X, y = load_data_methyl()\n",
    "#X_train, X_test, y_train, y_test = train_test_split(X,y, test_size=0.3, random_state=10)\n",
    "for i in range(11,16):\n",
    "    selector = GenericUnivariateSelect(chi2, mode='k_best', param=X.shape[1]//i)\n",
    "    selector = selector.fit(X, y)\n",
    "    selected_feat = X.columns[(selector.get_support())]\n",
    "    print(len(selected_feat),methyl.shape[0])\n",
    "    feat = X[selected_feat].T\n",
    "    file = \"LUAD_methyl_kbest_{}.csv\".format(i)\n",
    "    feat.to_csv(file)"
   ]
  },
  {
   "cell_type": "markdown",
   "id": "1da7296f",
   "metadata": {
    "id": "X8W-mqpWfb1w"
   },
   "source": [
    "### Transform to csv"
   ]
  },
  {
   "cell_type": "code",
   "execution_count": null,
   "id": "7300a8c5",
   "metadata": {
    "colab": {
     "base_uri": "https://localhost:8080/"
    },
    "id": "JMyiEYa_HXD6",
    "outputId": "4a8aca98-0109-4033-bf2e-4838124813ca"
   },
   "outputs": [],
   "source": [
    "new_X = selector.transform(X)\n",
    "print(new_X.shape)\n",
    "new_X = pd.DataFrame(new_X.T, columns=miRNA.columns[1:], index=selector.get_feature_names_out()) \n",
    "new_X.to_csv('M://scriptie/data_MDICC2/LUAD/rf/methyl_rf.csv')"
   ]
  },
  {
   "cell_type": "markdown",
   "id": "8019be0d",
   "metadata": {
    "id": "HR1B0oEtI1Gp"
   },
   "source": [
    "# gene"
   ]
  },
  {
   "cell_type": "code",
   "execution_count": null,
   "id": "c81fe197",
   "metadata": {
    "colab": {
     "base_uri": "https://localhost:8080/"
    },
    "id": "fdx_CIzBvgJN",
    "outputId": "b4b0ab4d-525b-4d43-e6e1-4164e41aba64"
   },
   "outputs": [],
   "source": [
    "total_count = 0\n",
    "for column_name in gene.columns:\n",
    "  column = gene[column_name]\n",
    "  total_count += (column == 0).sum()\n",
    "\n",
    "print('Amount of zeroes in gene is {} out of {}'.format(total_count, gene.shape[0]*gene.shape[1]))"
   ]
  },
  {
   "cell_type": "code",
   "execution_count": 9,
   "id": "167e2a0f",
   "metadata": {
    "id": "Wg8qqu_5I54S"
   },
   "outputs": [],
   "source": [
    "def load_data_gene():\n",
    "    X = gene.T\n",
    "    header = list(X.iloc[0,:])\n",
    "    X = X.drop(X.index[[0]])\n",
    "    X.columns = header\n",
    "    y = label.iloc[:,1]\n",
    "    return X, y"
   ]
  },
  {
   "cell_type": "markdown",
   "id": "44528b9c",
   "metadata": {},
   "source": [
    "### Random forest"
   ]
  },
  {
   "cell_type": "code",
   "execution_count": null,
   "id": "76de2d6b",
   "metadata": {},
   "outputs": [],
   "source": [
    "X, y = load_data_gene()\n",
    "X_train, X_test, y_train, y_test = train_test_split(X,y, test_size=0.3, random_state=0)\n",
    "\n",
    "rfc = RandomForestClassifier(n_estimators = 100,random_state=0,criterion='gini') \n",
    "selector = SelectFromModel(estimator=rfc, \n",
    "                      threshold=0.01)\n",
    "# Train the selector\n",
    "selector = selector.fit(X_train, y_train)\n",
    "print(selector.get_support())\n",
    "selected_feat = X_train.columns[(selector.get_support())]\n",
    "print(len(selected_feat))\n",
    "feat = X[selected_feat].T\n",
    "feat.to_csv(\"LUAD_gene_rf_tt.csv\")"
   ]
  },
  {
   "cell_type": "markdown",
   "id": "3d02d522",
   "metadata": {
    "id": "Vzy9MRWciNhw"
   },
   "source": [
    "### Variance Threshold"
   ]
  },
  {
   "cell_type": "code",
   "execution_count": null,
   "id": "ee0da8f9",
   "metadata": {
    "id": "XpDtH64HiNBy"
   },
   "outputs": [],
   "source": [
    "selector = VarianceThreshold()\n",
    "selector = selector.fit(X)"
   ]
  },
  {
   "cell_type": "markdown",
   "id": "6b4eab42",
   "metadata": {
    "id": "qLTl7kwXiK36"
   },
   "source": [
    "### RFECV"
   ]
  },
  {
   "cell_type": "code",
   "execution_count": null,
   "id": "d663c749",
   "metadata": {
    "id": "b1MP1ongw9WC"
   },
   "outputs": [],
   "source": [
    "clf = RandomForestClassifier(n_estimators=10, random_state=10)\n",
    "cv = StratifiedKFold(5)\n",
    "selector_g = RFECV(\n",
    "    estimator=clf,\n",
    "    step=1,\n",
    "    cv=cv,\n",
    "    scoring=\"accuracy\",\n",
    "    n_jobs=-1)\n",
    "selector_g = selector_g.fit(X,y)\n",
    "\n",
    "print(selector_g.score(X,y))\n",
    "print(np.unique(selector_g.ranking_, return_counts=True))"
   ]
  },
  {
   "cell_type": "markdown",
   "id": "f8756d1f",
   "metadata": {},
   "source": [
    "### K-best feature selection"
   ]
  },
  {
   "cell_type": "code",
   "execution_count": 10,
   "id": "8e7615ba",
   "metadata": {},
   "outputs": [
    {
     "name": "stdout",
     "output_type": "stream",
     "text": [
      "5498 60483\n",
      "5040 60483\n",
      "4652 60483\n",
      "4320 60483\n",
      "4032 60483\n"
     ]
    }
   ],
   "source": [
    "X, y = load_data_gene()\n",
    "#X_train, X_test, y_train, y_test = train_test_split(X,y, test_size=0.3, random_state=10)\n",
    "for i in range(11,16):\n",
    "    selector = GenericUnivariateSelect(chi2, mode='k_best', param=X.shape[1]//i)\n",
    "    selector = selector.fit(X, y)\n",
    "    selected_feat = X.columns[(selector.get_support())]\n",
    "    print(len(selected_feat),gene.shape[0])\n",
    "    feat = X[selected_feat].T\n",
    "    file = \"LUAD_gene_kbest_{}.csv\".format(i)\n",
    "    feat.to_csv(file)"
   ]
  },
  {
   "cell_type": "markdown",
   "id": "561224f6",
   "metadata": {
    "id": "rCSOEf59iYD7"
   },
   "source": [
    "### Transform to csv"
   ]
  },
  {
   "cell_type": "code",
   "execution_count": null,
   "id": "8b083e37",
   "metadata": {
    "colab": {
     "base_uri": "https://localhost:8080/"
    },
    "id": "i2npbW8fw-Hm",
    "outputId": "71245325-f1cd-4eed-95b3-224cf45a3f07",
    "scrolled": true
   },
   "outputs": [],
   "source": [
    "new_X = selector.transform(X)\n",
    "print(new_X.shape)\n",
    "new_X = pd.DataFrame(new_X.T, columns=gene.columns[1:], index=selector.get_feature_names_out()) \n",
    "new_X.to_csv('M://scriptie/data_MDICC2/LUAD/rf/gene_rf.csv')"
   ]
  }
 ],
 "metadata": {
  "colab": {
   "provenance": []
  },
  "kernelspec": {
   "display_name": "Python 3 (ipykernel)",
   "language": "python",
   "name": "python3"
  },
  "language_info": {
   "codemirror_mode": {
    "name": "ipython",
    "version": 3
   },
   "file_extension": ".py",
   "mimetype": "text/x-python",
   "name": "python",
   "nbconvert_exporter": "python",
   "pygments_lexer": "ipython3",
   "version": "3.9.13"
  }
 },
 "nbformat": 4,
 "nbformat_minor": 5
}
